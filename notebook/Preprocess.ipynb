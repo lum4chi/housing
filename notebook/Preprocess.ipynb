{
 "cells": [
  {
   "cell_type": "markdown",
   "metadata": {},
   "source": [
    "Setup"
   ]
  },
  {
   "cell_type": "code",
   "execution_count": null,
   "metadata": {},
   "outputs": [],
   "source": [
    "import locale\n",
    "import numpy as np\n",
    "import pandas as pd\n",
    "from datetime import datetime"
   ]
  },
  {
   "cell_type": "code",
   "execution_count": null,
   "metadata": {},
   "outputs": [],
   "source": [
    "import plotly.express as px"
   ]
  },
  {
   "cell_type": "code",
   "execution_count": null,
   "metadata": {},
   "outputs": [],
   "source": [
    "locale.setlocale(locale.LC_ALL, '')"
   ]
  },
  {
   "cell_type": "markdown",
   "metadata": {},
   "source": [
    "# Data"
   ]
  },
  {
   "cell_type": "code",
   "execution_count": null,
   "metadata": {},
   "outputs": [],
   "source": [
    "store = \"../data/20200914.jl\""
   ]
  },
  {
   "cell_type": "code",
   "execution_count": null,
   "metadata": {},
   "outputs": [],
   "source": [
    "%%time\n",
    "df = pd.read_json(store, lines=True)"
   ]
  },
  {
   "cell_type": "code",
   "execution_count": null,
   "metadata": {},
   "outputs": [],
   "source": [
    "%%time\n",
    "df = df.set_index(\"id\")"
   ]
  },
  {
   "cell_type": "code",
   "execution_count": null,
   "metadata": {},
   "outputs": [],
   "source": [
    "%%time\n",
    "contract = df[\"contract\"].apply(pd.Series)\n",
    "df = df.join(contract, rsuffix=\"_contract\")\n",
    "del df[\"contract\"]"
   ]
  },
  {
   "cell_type": "code",
   "execution_count": null,
   "metadata": {},
   "outputs": [],
   "source": [
    "%%time\n",
    "advertiser = df[\"advertiser\"].apply(pd.Series)\n",
    "agency = advertiser[\"agency\"].apply(pd.Series)\n",
    "supervisor = advertiser[\"supervisor\"].apply(pd.Series)\n",
    "df = df.join(supervisor, rsuffix=\"_agency\").join(supervisor, rsuffix=\"_supervisor\")\n",
    "del df[\"advertiser\"]"
   ]
  },
  {
   "cell_type": "code",
   "execution_count": null,
   "metadata": {},
   "outputs": [],
   "source": [
    "%%time\n",
    "properties = df[\"properties\"].apply(lambda r: r[0]).apply(pd.Series)\n",
    "df = df.join(properties, rsuffix=\"_properties\")\n",
    "del df[\"properties\"]"
   ]
  },
  {
   "cell_type": "code",
   "execution_count": null,
   "metadata": {},
   "outputs": [],
   "source": [
    "%%time\n",
    "location = df[\"location\"].apply(pd.Series)\n",
    "df = df.join(location, rsuffix=\"_location\")\n",
    "del df[\"location\"]"
   ]
  },
  {
   "cell_type": "code",
   "execution_count": null,
   "metadata": {},
   "outputs": [],
   "source": [
    "%%time\n",
    "costs = df[\"price_properties\"].apply(pd.Series)\n",
    "df = df.join(costs, rsuffix=\"_costs\")\n",
    "del df[\"price_properties\"]"
   ]
  },
  {
   "cell_type": "code",
   "execution_count": null,
   "metadata": {},
   "outputs": [],
   "source": [
    "%%time\n",
    "surfaceConstitution = df[\"surfaceConstitution\"].apply(pd.Series)\n",
    "surfaceConstitutionElements = surfaceConstitution[\"surfaceConstitutionElements\"].dropna().apply(lambda r: r[0]).apply(pd.Series)\n",
    "df = df.join(surfaceConstitutionElements, rsuffix=\"_surfaceConstitutionElements\")\n",
    "del df[\"surfaceConstitution\"]"
   ]
  },
  {
   "cell_type": "code",
   "execution_count": null,
   "metadata": {},
   "outputs": [],
   "source": [
    "%%time\n",
    "to_drop = \"\"\"name value imageUrl label type_agency displayName_supervisor imageUrl_supervisor label_supervisor type_supervisor\n",
    "typology category multimedia nation region macrozone microzone marker constitution percentage surfaceType phoneUrl phoneUrl_supervisor \n",
    "zoom province city formattedPrice formattedPriceTop visible floor_surfaceConstitutionElements\"\"\".split()\n",
    "df = df.drop(columns=to_drop)\n",
    "df = df.dropna(axis=1, how=\"all\")"
   ]
  },
  {
   "cell_type": "markdown",
   "metadata": {},
   "source": [
    "# Data types"
   ]
  },
  {
   "cell_type": "code",
   "execution_count": null,
   "metadata": {},
   "outputs": [],
   "source": [
    "df[\"surfaceValue\"] = df.surface.str.replace(\" m²\", \"\").str.replace(\".\",\"\").str.replace(\",\",\".\").astype(float)"
   ]
  },
  {
   "cell_type": "code",
   "execution_count": null,
   "metadata": {},
   "outputs": [],
   "source": [
    "df[\"currency\"] = df.price_costs.apply(lambda p: locale.currency(p, grouping=True))"
   ]
  },
  {
   "cell_type": "markdown",
   "metadata": {},
   "source": [
    "# Store"
   ]
  },
  {
   "cell_type": "code",
   "execution_count": null,
   "metadata": {},
   "outputs": [],
   "source": [
    "%%time\n",
    "today = datetime.today().strftime(\"%Y%m%d\")\n",
    "df.reset_index().to_feather(f\"../data/{today}.feather\")"
   ]
  },
  {
   "cell_type": "code",
   "execution_count": null,
   "metadata": {},
   "outputs": [],
   "source": []
  }
 ],
 "metadata": {
  "kernelspec": {
   "display_name": "Python 3",
   "language": "python",
   "name": "python3"
  },
  "language_info": {
   "codemirror_mode": {
    "name": "ipython",
    "version": 3
   },
   "file_extension": ".py",
   "mimetype": "text/x-python",
   "name": "python",
   "nbconvert_exporter": "python",
   "pygments_lexer": "ipython3",
   "version": "3.8.5"
  },
  "toc-autonumbering": true
 },
 "nbformat": 4,
 "nbformat_minor": 4
}
