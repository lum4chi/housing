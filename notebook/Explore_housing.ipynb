{
 "cells": [
  {
   "cell_type": "markdown",
   "metadata": {},
   "source": [
    "Setup"
   ]
  },
  {
   "cell_type": "code",
   "execution_count": null,
   "metadata": {},
   "outputs": [],
   "source": [
    "import locale\n",
    "import numpy as np\n",
    "import pandas as pd\n",
    "from tqdm import tqdm\n",
    "from geopy.geocoders import Nominatim"
   ]
  },
  {
   "cell_type": "code",
   "execution_count": null,
   "metadata": {},
   "outputs": [],
   "source": [
    "import plotly.express as px"
   ]
  },
  {
   "cell_type": "code",
   "execution_count": null,
   "metadata": {},
   "outputs": [],
   "source": [
    "locale.setlocale(locale.LC_ALL, '')"
   ]
  },
  {
   "cell_type": "code",
   "execution_count": null,
   "metadata": {},
   "outputs": [],
   "source": [
    "tqdm.pandas()"
   ]
  },
  {
   "cell_type": "code",
   "execution_count": null,
   "metadata": {},
   "outputs": [],
   "source": [
    "f\"Last executed: {pd.Timestamp.today(tz='Europe/Rome')}\""
   ]
  },
  {
   "cell_type": "markdown",
   "metadata": {},
   "source": [
    "# Data"
   ]
  },
  {
   "cell_type": "code",
   "execution_count": null,
   "metadata": {},
   "outputs": [],
   "source": [
    "store = \"../data/houses.jl\""
   ]
  },
  {
   "cell_type": "code",
   "execution_count": null,
   "metadata": {},
   "outputs": [],
   "source": [
    "%%time\n",
    "df = pd.read_json(store, lines=True)"
   ]
  },
  {
   "cell_type": "code",
   "execution_count": null,
   "metadata": {},
   "outputs": [],
   "source": [
    "df = df.set_index(\"_id\")"
   ]
  },
  {
   "cell_type": "code",
   "execution_count": null,
   "metadata": {},
   "outputs": [],
   "source": [
    "df[\"price\"] = df.price.str.replace(\"€ \", \"\").str.replace(\".\", \"\").astype(\"float\")"
   ]
  },
  {
   "cell_type": "code",
   "execution_count": null,
   "metadata": {},
   "outputs": [],
   "source": [
    "df[\"area\"] = df.area.str.replace(\".\", \"\").astype(\"float\")"
   ]
  },
  {
   "cell_type": "markdown",
   "metadata": {},
   "source": [
    "# Geocoding"
   ]
  },
  {
   "cell_type": "markdown",
   "metadata": {},
   "source": [
    "## Retrieve location data\n",
    "\n",
    "Run it just once to resolve addresses in geodata"
   ]
  },
  {
   "cell_type": "raw",
   "metadata": {},
   "source": [
    "geolocator = Nominatim(user_agent=\"housing\")"
   ]
  },
  {
   "cell_type": "markdown",
   "metadata": {},
   "source": [
    "Raw extraction of the address by removing words not address related"
   ]
  },
  {
   "cell_type": "raw",
   "metadata": {},
   "source": [
    "tokens = df.title.str.lower().str.replace(\",\",\"\").str.split()"
   ]
  },
  {
   "cell_type": "raw",
   "metadata": {},
   "source": [
    "house_types = ['trilocale', 'appartamento', 'quadrilocale', 'loft', 'bilocale',\n",
    "               'monolocale', 'mansarda', 'attico', 'casale', 'rustico', 'villa', \n",
    "               'terratetto', 'seminterrato']\n",
    "house_condition = ['nuovo', 'nuovi', 'ottimo', 'stato', 'buono', \"all'asta\", \n",
    "                   'adiacenze', 'ammezzato']"
   ]
  },
  {
   "cell_type": "raw",
   "metadata": {},
   "source": [
    "not_address_tokens = \" \".join(house_types + house_condition).lower().split()"
   ]
  },
  {
   "cell_type": "raw",
   "metadata": {},
   "source": [
    "tokens = tokens.apply(lambda tokens: [t for t in tokens if t not in not_address_tokens])"
   ]
  },
  {
   "cell_type": "raw",
   "metadata": {},
   "source": [
    "addresses = tokens.apply(lambda r: \" \".join(r))"
   ]
  },
  {
   "cell_type": "raw",
   "metadata": {},
   "source": [
    "addresses.sample(10)"
   ]
  },
  {
   "cell_type": "raw",
   "metadata": {},
   "source": [
    "def resolve_address(address):\n",
    "    loc = geolocator.geocode(address)\n",
    "    return loc.raw if loc is not None else None"
   ]
  },
  {
   "cell_type": "raw",
   "metadata": {},
   "source": [
    "location_data = addresses.progress_apply(resolve_address)"
   ]
  },
  {
   "cell_type": "raw",
   "metadata": {},
   "source": [
    "100%|██████████| 13863/13863 [1:58:33<00:00,  1.95it/s]  "
   ]
  },
  {
   "cell_type": "raw",
   "metadata": {},
   "source": [
    "location_data = location_data.apply(pd.Series)"
   ]
  },
  {
   "cell_type": "raw",
   "metadata": {},
   "source": [
    "location_data.reset_index().to_feather(\"../data/houses_location.feather\")"
   ]
  },
  {
   "cell_type": "raw",
   "metadata": {},
   "source": [
    "location_data.lat.isna().value_counts()"
   ]
  },
  {
   "cell_type": "raw",
   "metadata": {},
   "source": [
    "True     7433\n",
    "False    6430"
   ]
  },
  {
   "cell_type": "markdown",
   "metadata": {},
   "source": [
    "More than half location data were not retrieved by this approach"
   ]
  },
  {
   "cell_type": "markdown",
   "metadata": {},
   "source": [
    "## Append location data"
   ]
  },
  {
   "cell_type": "code",
   "execution_count": null,
   "metadata": {},
   "outputs": [],
   "source": [
    "location_data = pd.read_feather(\"../data/houses_location.feather\").set_index(\"_id\")"
   ]
  },
  {
   "cell_type": "code",
   "execution_count": null,
   "metadata": {},
   "outputs": [],
   "source": [
    "location_data[\"lat\"] = location_data.lat.astype(\"float\")\n",
    "location_data[\"lon\"] = location_data.lon.astype(\"float\")"
   ]
  },
  {
   "cell_type": "code",
   "execution_count": null,
   "metadata": {},
   "outputs": [],
   "source": [
    "df = df.join(location_data)"
   ]
  },
  {
   "cell_type": "markdown",
   "metadata": {},
   "source": [
    "Just data that can be displayed"
   ]
  },
  {
   "cell_type": "code",
   "execution_count": null,
   "metadata": {},
   "outputs": [],
   "source": [
    "df = df[~df.lat.isna()]"
   ]
  },
  {
   "cell_type": "code",
   "execution_count": null,
   "metadata": {},
   "outputs": [],
   "source": [
    "df[\"f_price\"] = df.price.apply(lambda p: locale.currency(p, grouping=True))"
   ]
  },
  {
   "cell_type": "code",
   "execution_count": null,
   "metadata": {},
   "outputs": [],
   "source": [
    "df[\"f_area\"] = df.area.astype(str) + \" m²\""
   ]
  },
  {
   "cell_type": "code",
   "execution_count": null,
   "metadata": {},
   "outputs": [],
   "source": [
    "df[\"url\"] = df.index.to_series().apply(lambda _id: f\"<a target='_blank' href='https://www.immobiliare.it/annunci/{_id}/>link</a>'\")"
   ]
  },
  {
   "cell_type": "code",
   "execution_count": null,
   "metadata": {},
   "outputs": [],
   "source": [
    "df[\"rooms\"] = df.rooms.str.replace(\"+\",\"\").astype(\"float\")"
   ]
  },
  {
   "cell_type": "code",
   "execution_count": null,
   "metadata": {},
   "outputs": [],
   "source": [
    "df.head(1)"
   ]
  },
  {
   "cell_type": "markdown",
   "metadata": {},
   "source": [
    "# Exploration"
   ]
  },
  {
   "cell_type": "code",
   "execution_count": null,
   "metadata": {},
   "outputs": [],
   "source": [
    "data = df[(140000 <= df.price) & (df.price <= 300000) & (df.rooms >= 2) & (df.rooms <= 3) & (df.area >= 50)]"
   ]
  },
  {
   "cell_type": "code",
   "execution_count": null,
   "metadata": {},
   "outputs": [],
   "source": [
    "def rescale_area(area):\n",
    "    _min, _max = area.min(), area.max()\n",
    "    return (area - _min) / (_min + _max)"
   ]
  },
  {
   "cell_type": "code",
   "execution_count": null,
   "metadata": {},
   "outputs": [],
   "source": [
    "fig = px.scatter_mapbox(data.reset_index(), lat=\"lat\", lon=\"lon\", hover_name=\"title\", \n",
    "                        color=\"price\", zoom=10.2, size=rescale_area(data.area.fillna(0)).round(1),\n",
    "                        hover_data={\"lat\": False, \"lon\": False, \n",
    "                                    \"_id\": True, \"f_price\": True, \n",
    "                                    \"f_area\": True, \"rooms\": True, \n",
    "                                    \"baths\": True, \"price\": False, \n",
    "                                    \"floor\": True},\n",
    "                        height=700, title=\"Milan housing\")\n",
    "fig.update_layout(mapbox_style=\"carto-positron\")\n",
    "fig.update_layout(margin={\"r\":0,\"t\":0,\"l\":0,\"b\":0})"
   ]
  }
 ],
 "metadata": {
  "kernelspec": {
   "display_name": "Python 3",
   "language": "python",
   "name": "python3"
  },
  "language_info": {
   "codemirror_mode": {
    "name": "ipython",
    "version": 3
   },
   "file_extension": ".py",
   "mimetype": "text/x-python",
   "name": "python",
   "nbconvert_exporter": "python",
   "pygments_lexer": "ipython3",
   "version": "3.8.5"
  },
  "toc-autonumbering": true
 },
 "nbformat": 4,
 "nbformat_minor": 4
}
